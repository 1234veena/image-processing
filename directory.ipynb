{
 "cells": [
  {
   "cell_type": "code",
   "execution_count": 5,
   "id": "f905c127",
   "metadata": {},
   "outputs": [
    {
     "name": "stdout",
     "output_type": "stream",
     "text": [
      "image converted and saved.\n"
     ]
    }
   ],
   "source": [
    "from PIL import Image\n",
    "import os\n",
    "img=Image.open('wom.jpg')\n",
    "img.save('wom11.png')\n",
    "print('image converted and saved.')"
   ]
  },
  {
   "cell_type": "code",
   "execution_count": 13,
   "id": "31ecdced",
   "metadata": {
    "scrolled": true
   },
   "outputs": [
    {
     "data": {
      "text/plain": [
       "['!qhlogs.doc',\n",
       " 'addresses.csv',\n",
       " 'cat.jpg',\n",
       " 'cat_damaged.png',\n",
       " 'cat_mask.png',\n",
       " 'chimp.jpg',\n",
       " 'cities (1).csv',\n",
       " 'cities.csv',\n",
       " 'density based cluster1.ipynb',\n",
       " 'density based clustering.ipynb',\n",
       " 'density.csv',\n",
       " 'desktop.ini',\n",
       " 'dividing images into different blocks..ipynb',\n",
       " 'drawing on an image.ipynb',\n",
       " 'example.csv',\n",
       " 'file_example_WAV_1MG.wav',\n",
       " 'file_example_XLSX_10.xlsx',\n",
       " 'file_example_XLS_10.xls',\n",
       " 'fruit data.csv',\n",
       " 'fruit_data_with_colors (1).txt',\n",
       " 'fruit_data_with_colors.txt',\n",
       " 'gaussian multinomnl.ipynb',\n",
       " 'grad.jpg',\n",
       " 'grid based clustering.ipynb',\n",
       " 'haarcascade.xml',\n",
       " 'haarcascade_eye_tree_eyeglasses.xml',\n",
       " 'haarcascade_frontalcatface.xml',\n",
       " 'haarcascade_frontalface_alt.xml',\n",
       " 'haarcascade_frontalface_alt_tree.xml',\n",
       " 'haarcascade_frontalface_default.xml',\n",
       " 'haarface.xml',\n",
       " 'hierarchical clustering (1).ipynb',\n",
       " 'hierarchical clustering (2).ipynb',\n",
       " 'hierarchical clustering.ipynb',\n",
       " 'hierarchical clustering1.ipynb',\n",
       " 'img5.jpg',\n",
       " 'IP FINAL DOC.pdf',\n",
       " 'K-Mean clustering.ipynb',\n",
       " 'KNN (2).ipynb',\n",
       " 'KNN nearest neighbours.ipynb',\n",
       " 'lamb.jpg',\n",
       " 'log transformation.ipynb',\n",
       " 'logo.jpg',\n",
       " 'logo1.jpg',\n",
       " 'mean ,median ,mode ,range ,std,with function plotting histogram (1).ipynb',\n",
       " 'mean ,median ,mode ,range ,std,with function plotting histogram (2).ipynb',\n",
       " 'mean ,median ,mode ,range ,std,with function plotting histogram.ipynb',\n",
       " 'mean with histogram (1).ipynb',\n",
       " 'mean with histogram.ipynb',\n",
       " 'mount.jpg',\n",
       " 'multinomial_naive_bayes.pyc',\n",
       " 'multinominal naivebays12.ipynb',\n",
       " 'Naive bayes usng gaussian.ipynb',\n",
       " 'nature.jpg',\n",
       " 'ND ARRAYS.ipynb',\n",
       " 'Noise.ipynb',\n",
       " 'panda.jpg',\n",
       " 'percentile,decile.ipynb',\n",
       " 'pexels-edward-jenner-4114797-3840x2160-50fps.mp4',\n",
       " 'photo.jpg',\n",
       " 'PinkPanther30.wav',\n",
       " 'pixel featuring.ipynb',\n",
       " 'QR,IQR (1).ipynb',\n",
       " 'qr,iqr.ipynb',\n",
       " 'restoration.ipynb',\n",
       " 'sample data.html',\n",
       " 'sample data_files',\n",
       " 'sample1 (1).json',\n",
       " 'sample1.json',\n",
       " 'sample2.xlsx',\n",
       " 'sample3.txt',\n",
       " 'sample3.xlsx',\n",
       " 'sample_text - Sheet1 (1).csv',\n",
       " 'sample_text - Sheet1.csv',\n",
       " 'student.csv',\n",
       " 'sudoku.jpg',\n",
       " 'sun.jpg',\n",
       " 'SUPPORT VECTOR MACHINE.ipynb',\n",
       " 'svm linear and non linear.ipynb',\n",
       " 'TEXT PROCESSING.ipynb',\n",
       " 'text_processing (1).ipynb',\n",
       " 'text_processing.ipynb',\n",
       " 'text_processing12.ipynb',\n",
       " 'Untitled.ipynb',\n",
       " 'Untitled5.ipynb',\n",
       " 'User_Data (1).csv',\n",
       " 'User_Data (2).csv',\n",
       " 'User_Data.csv',\n",
       " 'User_Data1.csv',\n",
       " 'Without using Built in Function (2).ipynb',\n",
       " 'wom.jpg',\n",
       " 'woman.jpg',\n",
       " '~$ INDEX.docx',\n",
       " '~$blist2022.docx']"
      ]
     },
     "execution_count": 13,
     "metadata": {},
     "output_type": "execute_result"
    }
   ],
   "source": [
    "import os\n",
    "dict=os.listdir(\"C:/Users/User/Downloads\")\n",
    "dict"
   ]
  },
  {
   "cell_type": "code",
   "execution_count": 24,
   "id": "173dd2bb",
   "metadata": {},
   "outputs": [],
   "source": [
    "from PIL import Image\n",
    "import os\n",
    "\n",
    "path=\"C:/Users/User/Downloads\"\n",
    "\n",
    "filelist=os.listdir(path)\n",
    "img_extensions=(\".jpg\",'.png',\".gif\",\".bmp\")\n",
    "img_files=[file for file in filelist if file.endswith(\".jpg\")]\n",
    "\n",
    "for img_file in img_files:\n",
    "    image_path=os.path.join(path,img_file)\n",
    "    image=Image.open(image_path)\n",
    "    image.show()"
   ]
  },
  {
   "cell_type": "code",
   "execution_count": null,
   "id": "a7e4bee2",
   "metadata": {},
   "outputs": [],
   "source": []
  }
 ],
 "metadata": {
  "kernelspec": {
   "display_name": "Python 3 (ipykernel)",
   "language": "python",
   "name": "python3"
  },
  "language_info": {
   "codemirror_mode": {
    "name": "ipython",
    "version": 3
   },
   "file_extension": ".py",
   "mimetype": "text/x-python",
   "name": "python",
   "nbconvert_exporter": "python",
   "pygments_lexer": "ipython3",
   "version": "3.9.7"
  }
 },
 "nbformat": 4,
 "nbformat_minor": 5
}
